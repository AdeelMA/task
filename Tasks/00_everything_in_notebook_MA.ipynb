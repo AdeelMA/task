{
 "cells": [
  {
   "cell_type": "markdown",
   "metadata": {},
   "source": [
    "# participant\n",
    "Title = \"ICs\" \n",
    "\n",
    "Name = \"Muhammad Adeel\"\n",
    "\n",
    "Email = \"adeelafzal210@gmail.com\"\n",
    "\n",
    "Whatsapp = \"03030012333\""
   ]
  }
 ],
 "metadata": {
  "language_info": {
   "name": "python"
  },
  "orig_nbformat": 4
 },
 "nbformat": 4,
 "nbformat_minor": 2
}
